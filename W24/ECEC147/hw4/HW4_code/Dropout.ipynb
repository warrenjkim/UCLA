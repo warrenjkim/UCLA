{
 "cells": [
  {
   "cell_type": "markdown",
   "metadata": {},
   "source": [
    "# Dropout\n",
    "\n",
    "In this notebook, you will implement dropout.  Then we will ask you to train a network with batchnorm and dropout, and acheive over 55% accuracy on CIFAR-10.\n",
    "\n",
    "CS231n has built a solid API for building these modular frameworks and training them, and we will use their very well implemented framework as opposed to \"reinventing the wheel.\"  This includes using their Solver, various utility functions, and their layer structure.  This also includes nndl.fc_net, nndl.layers, and nndl.layer_utils.  As in prior assignments, we thank Serena Yeung & Justin Johnson for permission to use code written for the CS 231n class (cs231n.stanford.edu).  "
   ]
  },
  {
   "cell_type": "code",
   "execution_count": 1,
   "metadata": {},
   "outputs": [],
   "source": [
    "## Import and setups\n",
    "\n",
    "import time\n",
    "import numpy as np\n",
    "import matplotlib.pyplot as plt\n",
    "from nndl.fc_net import *\n",
    "from nndl.layers import *\n",
    "from utils.data_utils import get_CIFAR10_data\n",
    "from utils.gradient_check import eval_numerical_gradient, eval_numerical_gradient_array\n",
    "from utils.solver import Solver\n",
    "\n",
    "%matplotlib inline\n",
    "plt.rcParams['figure.figsize'] = (10.0, 8.0) # set default size of plots\n",
    "plt.rcParams['image.interpolation'] = 'nearest'\n",
    "plt.rcParams['image.cmap'] = 'gray'\n",
    "\n",
    "# for auto-reloading external modules\n",
    "# see http://stackoverflow.com/questions/1907993/autoreload-of-modules-in-ipython\n",
    "%load_ext autoreload\n",
    "%autoreload 2\n",
    "\n",
    "def rel_error(x, y):\n",
    "  \"\"\" returns relative error \"\"\"\n",
    "  return np.max(np.abs(x - y) / (np.maximum(1e-8, np.abs(x) + np.abs(y))))"
   ]
  },
  {
   "cell_type": "code",
   "execution_count": 2,
   "metadata": {},
   "outputs": [
    {
     "name": "stdout",
     "output_type": "stream",
     "text": [
      "X_train: (49000, 3, 32, 32) \n",
      "y_train: (49000,) \n",
      "X_val: (1000, 3, 32, 32) \n",
      "y_val: (1000,) \n",
      "X_test: (1000, 3, 32, 32) \n",
      "y_test: (1000,) \n"
     ]
    }
   ],
   "source": [
    "# Load the (preprocessed) CIFAR10 data.\n",
    "\n",
    "data = get_CIFAR10_data()\n",
    "for k in data.keys():\n",
    "  print('{}: {} '.format(k, data[k].shape))"
   ]
  },
  {
   "cell_type": "markdown",
   "metadata": {},
   "source": [
    "## Dropout forward pass\n",
    "\n",
    "Implement the training and test time dropout forward pass, `dropout_forward`, in `nndl/layers.py`. After that, test your implementation by running the following cell."
   ]
  },
  {
   "cell_type": "code",
   "execution_count": 8,
   "metadata": {},
   "outputs": [
    {
     "name": "stdout",
     "output_type": "stream",
     "text": [
      "Running tests with p =  0.3\n",
      "Mean of input:  10.000114041236989\n",
      "Mean of train-time output:  9.943159332946815\n",
      "Mean of test-time output:  10.000114041236989\n",
      "Fraction of train-time output set to zero:  0.701688\n",
      "Fraction of test-time output set to zero:  0.0\n",
      "Running tests with p =  0.6\n",
      "Mean of input:  10.000114041236989\n",
      "Mean of train-time output:  9.983728412356276\n",
      "Mean of test-time output:  10.000114041236989\n",
      "Fraction of train-time output set to zero:  0.40104\n",
      "Fraction of test-time output set to zero:  0.0\n",
      "Running tests with p =  0.75\n",
      "Mean of input:  10.000114041236989\n",
      "Mean of train-time output:  10.001493761980147\n",
      "Mean of test-time output:  10.000114041236989\n",
      "Fraction of train-time output set to zero:  0.250088\n",
      "Fraction of test-time output set to zero:  0.0\n"
     ]
    }
   ],
   "source": [
    "x = np.random.randn(500, 500) + 10\n",
    "\n",
    "for p in [0.3, 0.6, 0.75]:\n",
    "  out, _ = dropout_forward(x, {'mode': 'train', 'p': p})\n",
    "  out_test, _ = dropout_forward(x, {'mode': 'test', 'p': p})\n",
    "\n",
    "  print('Running tests with p = ', p)\n",
    "  print('Mean of input: ', x.mean())\n",
    "  print('Mean of train-time output: ', out.mean())\n",
    "  print('Mean of test-time output: ', out_test.mean())\n",
    "  print('Fraction of train-time output set to zero: ', (out == 0).mean())\n",
    "  print('Fraction of test-time output set to zero: ', (out_test == 0).mean())"
   ]
  },
  {
   "cell_type": "markdown",
   "metadata": {},
   "source": [
    "## Dropout backward pass\n",
    "\n",
    "Implement the backward pass, `dropout_backward`, in `nndl/layers.py`.  After that, test your gradients by running the following cell:"
   ]
  },
  {
   "cell_type": "code",
   "execution_count": 9,
   "metadata": {},
   "outputs": [
    {
     "name": "stdout",
     "output_type": "stream",
     "text": [
      "dx relative error:  5.4456110146208796e-11\n"
     ]
    }
   ],
   "source": [
    "x = np.random.randn(10, 10) + 10\n",
    "dout = np.random.randn(*x.shape)\n",
    "\n",
    "dropout_param = {'mode': 'train', 'p': 0.8, 'seed': 123}\n",
    "out, cache = dropout_forward(x, dropout_param)\n",
    "dx = dropout_backward(dout, cache)\n",
    "dx_num = eval_numerical_gradient_array(lambda xx: dropout_forward(xx, dropout_param)[0], x, dout)\n",
    "\n",
    "print('dx relative error: ', rel_error(dx, dx_num))"
   ]
  },
  {
   "cell_type": "markdown",
   "metadata": {},
   "source": [
    "## Implement a fully connected neural network with dropout layers\n",
    "\n",
    "Modify the `FullyConnectedNet()` class in `nndl/fc_net.py` to incorporate dropout.  A dropout layer should be incorporated after every ReLU layer.  Concretely, there shouldn't be a dropout at the output layer since there is no ReLU at the output layer. You will need to modify the class in the following areas:\n",
    "\n",
    "(1) In the forward pass, you will need to incorporate a dropout layer after every relu layer.\n",
    "\n",
    "(2) In the backward pass, you will need to incorporate a dropout backward pass layer.\n",
    "\n",
    "Check your implementation by running the following code.  Our W1 gradient relative error is on the order of 1e-6 (the largest of all the relative errors)."
   ]
  },
  {
   "cell_type": "code",
   "execution_count": 19,
   "metadata": {},
   "outputs": [
    {
     "name": "stdout",
     "output_type": "stream",
     "text": [
      "Running check with dropout =  0\n",
      "Initial loss:  2.303043161170242\n",
      "W1 relative error: 4.795196815215288e-07\n",
      "W2 relative error: 1.9717710574314515e-07\n",
      "W3 relative error: 1.5587099483501822e-07\n",
      "b1 relative error: 2.033615448560775e-08\n",
      "b2 relative error: 1.686315567518667e-09\n",
      "b3 relative error: 1.1144421861081857e-10\n",
      "\n",
      "\n",
      "Running check with dropout =  0.25\n",
      "Initial loss:  2.302354247831908\n",
      "W1 relative error: 1.0017417771677944e-07\n",
      "W2 relative error: 2.2591349991943916e-09\n",
      "W3 relative error: 2.5553916704768502e-05\n",
      "b1 relative error: 9.368619593647787e-10\n",
      "b2 relative error: 0.2134290559158092\n",
      "b3 relative error: 1.2466815697171467e-10\n",
      "\n",
      "\n",
      "Running check with dropout =  0.5\n",
      "Initial loss:  2.304242617164796\n",
      "W1 relative error: 1.207883539101674e-07\n",
      "W2 relative error: 2.4541280438139708e-08\n",
      "W3 relative error: 8.057428154752603e-07\n",
      "b1 relative error: 2.276255983500775e-08\n",
      "b2 relative error: 6.836023983491334e-10\n",
      "b3 relative error: 1.2833211144563337e-10\n",
      "\n",
      "\n"
     ]
    }
   ],
   "source": [
    "N, D, H1, H2, C = 2, 15, 20, 30, 10\n",
    "X = np.random.randn(N, D)\n",
    "y = np.random.randint(C, size=(N,))\n",
    "\n",
    "for dropout in [0, 0.25, 0.5]:\n",
    "  print('Running check with dropout = ', dropout)\n",
    "  model = FullyConnectedNet([H1, H2], input_dim=D, num_classes=C,\n",
    "                            weight_scale=5e-2, dtype=np.float64,\n",
    "                            dropout=dropout, seed=123)\n",
    "\n",
    "  loss, grads = model.loss(X, y)\n",
    "  print('Initial loss: ', loss)\n",
    "\n",
    "  for name in sorted(grads):\n",
    "    f = lambda _: model.loss(X, y)[0]\n",
    "    grad_num = eval_numerical_gradient(f, model.params[name], verbose=False, h=1e-5)\n",
    "    print('{} relative error: {}'.format(name, rel_error(grad_num, grads[name])))\n",
    "  print('\\n')"
   ]
  },
  {
   "cell_type": "markdown",
   "metadata": {},
   "source": [
    "## Dropout as a regularizer\n",
    "\n",
    "In class, we claimed that dropout acts as a regularizer by effectively bagging.  To check this, we will train two small networks, one with dropout and one without dropout.  "
   ]
  },
  {
   "cell_type": "code",
   "execution_count": 20,
   "metadata": {},
   "outputs": [
    {
     "name": "stdout",
     "output_type": "stream",
     "text": [
      "(Iteration 1 / 125) loss: 2.300804\n",
      "(Epoch 0 / 25) train acc: 0.220000; val_acc: 0.168000\n",
      "(Epoch 1 / 25) train acc: 0.186000; val_acc: 0.147000\n",
      "(Epoch 2 / 25) train acc: 0.262000; val_acc: 0.202000\n",
      "(Epoch 3 / 25) train acc: 0.332000; val_acc: 0.257000\n",
      "(Epoch 4 / 25) train acc: 0.372000; val_acc: 0.283000\n",
      "(Epoch 5 / 25) train acc: 0.436000; val_acc: 0.294000\n",
      "(Epoch 6 / 25) train acc: 0.460000; val_acc: 0.320000\n",
      "(Epoch 7 / 25) train acc: 0.496000; val_acc: 0.285000\n",
      "(Epoch 8 / 25) train acc: 0.564000; val_acc: 0.334000\n",
      "(Epoch 9 / 25) train acc: 0.564000; val_acc: 0.318000\n",
      "(Epoch 10 / 25) train acc: 0.612000; val_acc: 0.325000\n",
      "(Epoch 11 / 25) train acc: 0.668000; val_acc: 0.288000\n",
      "(Epoch 12 / 25) train acc: 0.724000; val_acc: 0.332000\n",
      "(Epoch 13 / 25) train acc: 0.738000; val_acc: 0.320000\n",
      "(Epoch 14 / 25) train acc: 0.794000; val_acc: 0.321000\n",
      "(Epoch 15 / 25) train acc: 0.824000; val_acc: 0.297000\n",
      "(Epoch 16 / 25) train acc: 0.864000; val_acc: 0.314000\n",
      "(Epoch 17 / 25) train acc: 0.886000; val_acc: 0.308000\n",
      "(Epoch 18 / 25) train acc: 0.904000; val_acc: 0.312000\n",
      "(Epoch 19 / 25) train acc: 0.930000; val_acc: 0.298000\n",
      "(Epoch 20 / 25) train acc: 0.944000; val_acc: 0.308000\n",
      "(Iteration 101 / 125) loss: 0.165809\n",
      "(Epoch 21 / 25) train acc: 0.962000; val_acc: 0.302000\n",
      "(Epoch 22 / 25) train acc: 0.974000; val_acc: 0.298000\n",
      "(Epoch 23 / 25) train acc: 0.974000; val_acc: 0.280000\n",
      "(Epoch 24 / 25) train acc: 0.990000; val_acc: 0.280000\n",
      "(Epoch 25 / 25) train acc: 0.984000; val_acc: 0.298000\n",
      "(Iteration 1 / 125) loss: 2.301328\n",
      "(Epoch 0 / 25) train acc: 0.154000; val_acc: 0.145000\n",
      "(Epoch 1 / 25) train acc: 0.212000; val_acc: 0.196000\n",
      "(Epoch 2 / 25) train acc: 0.252000; val_acc: 0.205000\n",
      "(Epoch 3 / 25) train acc: 0.280000; val_acc: 0.199000\n",
      "(Epoch 4 / 25) train acc: 0.322000; val_acc: 0.262000\n",
      "(Epoch 5 / 25) train acc: 0.298000; val_acc: 0.241000\n",
      "(Epoch 6 / 25) train acc: 0.348000; val_acc: 0.281000\n",
      "(Epoch 7 / 25) train acc: 0.352000; val_acc: 0.266000\n",
      "(Epoch 8 / 25) train acc: 0.362000; val_acc: 0.267000\n",
      "(Epoch 9 / 25) train acc: 0.394000; val_acc: 0.283000\n",
      "(Epoch 10 / 25) train acc: 0.444000; val_acc: 0.308000\n",
      "(Epoch 11 / 25) train acc: 0.484000; val_acc: 0.299000\n",
      "(Epoch 12 / 25) train acc: 0.508000; val_acc: 0.312000\n",
      "(Epoch 13 / 25) train acc: 0.512000; val_acc: 0.315000\n",
      "(Epoch 14 / 25) train acc: 0.528000; val_acc: 0.307000\n",
      "(Epoch 15 / 25) train acc: 0.546000; val_acc: 0.317000\n",
      "(Epoch 16 / 25) train acc: 0.582000; val_acc: 0.301000\n",
      "(Epoch 17 / 25) train acc: 0.618000; val_acc: 0.326000\n",
      "(Epoch 18 / 25) train acc: 0.620000; val_acc: 0.325000\n",
      "(Epoch 19 / 25) train acc: 0.618000; val_acc: 0.324000\n",
      "(Epoch 20 / 25) train acc: 0.674000; val_acc: 0.328000\n",
      "(Iteration 101 / 125) loss: 1.236431\n",
      "(Epoch 21 / 25) train acc: 0.690000; val_acc: 0.327000\n",
      "(Epoch 22 / 25) train acc: 0.682000; val_acc: 0.340000\n",
      "(Epoch 23 / 25) train acc: 0.740000; val_acc: 0.345000\n",
      "(Epoch 24 / 25) train acc: 0.744000; val_acc: 0.310000\n",
      "(Epoch 25 / 25) train acc: 0.774000; val_acc: 0.330000\n"
     ]
    }
   ],
   "source": [
    "# Train two identical nets, one with dropout and one without\n",
    "\n",
    "num_train = 500\n",
    "small_data = {\n",
    "  'X_train': data['X_train'][:num_train],\n",
    "  'y_train': data['y_train'][:num_train],\n",
    "  'X_val': data['X_val'],\n",
    "  'y_val': data['y_val'],\n",
    "}\n",
    "\n",
    "solvers = {}\n",
    "dropout_choices = [0, 0.6]\n",
    "for dropout in dropout_choices:\n",
    "  model = FullyConnectedNet([100, 100, 100], dropout=dropout)\n",
    "\n",
    "  solver = Solver(model, small_data,\n",
    "                  num_epochs=25, batch_size=100,\n",
    "                  update_rule='adam',\n",
    "                  optim_config={\n",
    "                    'learning_rate': 5e-4,\n",
    "                  },\n",
    "                  verbose=True, print_every=100)\n",
    "  solver.train()\n",
    "  solvers[dropout] = solver"
   ]
  },
  {
   "cell_type": "code",
   "execution_count": 21,
   "metadata": {},
   "outputs": [
    {
     "data": {
      "image/png": "[encoded data removed]",
      "text/plain": [
       "<Figure size 1500x1500 with 2 Axes>"
      ]
     },
     "metadata": {},
     "output_type": "display_data"
    }
   ],
   "source": [
    "# Plot train and validation accuracies of the two models\n",
    "\n",
    "train_accs = []\n",
    "val_accs = []\n",
    "for dropout in dropout_choices:\n",
    "  solver = solvers[dropout]\n",
    "  train_accs.append(solver.train_acc_history[-1])\n",
    "  val_accs.append(solver.val_acc_history[-1])\n",
    "\n",
    "plt.subplot(3, 1, 1)\n",
    "for dropout in dropout_choices:\n",
    "  plt.plot(solvers[dropout].train_acc_history, 'o', label='%.2f dropout' % dropout)\n",
    "plt.title('Train accuracy')\n",
    "plt.xlabel('Epoch')\n",
    "plt.ylabel('Accuracy')\n",
    "plt.legend(ncol=2, loc='lower right')\n",
    "  \n",
    "plt.subplot(3, 1, 2)\n",
    "for dropout in dropout_choices:\n",
    "  plt.plot(solvers[dropout].val_acc_history, 'o', label='%.2f dropout' % dropout)\n",
    "plt.title('Val accuracy')\n",
    "plt.xlabel('Epoch')\n",
    "plt.ylabel('Accuracy')\n",
    "plt.legend(ncol=2, loc='lower right')\n",
    "\n",
    "plt.gcf().set_size_inches(15, 15)\n",
    "plt.show()"
   ]
  },
  {
   "cell_type": "markdown",
   "metadata": {},
   "source": [
    "## Question\n",
    "\n",
    "Based off the results of this experiment, is dropout performing regularization?  Explain your answer."
   ]
  },
  {
   "cell_type": "markdown",
   "metadata": {},
   "source": [
    "## Answer:\n"
   ]
  },
  {
   "cell_type": "markdown",
   "metadata": {},
   "source": [
    "## Final part of the assignment\n",
    "\n",
    "Get over 55% validation accuracy on CIFAR-10 by using the layers you have implemented.  You will be graded according to the following equation:\n",
    "\n",
    "min(floor((X - 32%)) / 23%, 1) \n",
    "where if you get 55% or higher validation accuracy, you get full points."
   ]
  },
  {
   "cell_type": "code",
   "execution_count": null,
   "metadata": {},
   "outputs": [
    {
     "name": "stdout",
     "output_type": "stream",
     "text": [
      "(Iteration 1 / 1960) loss: 2.663819\n",
      "(Epoch 0 / 20) train acc: 0.196000; val_acc: 0.202000\n",
      "(Epoch 1 / 20) train acc: 0.471000; val_acc: 0.478000\n",
      "(Iteration 101 / 1960) loss: 1.515008\n",
      "(Epoch 2 / 20) train acc: 0.517000; val_acc: 0.478000\n",
      "(Iteration 201 / 1960) loss: 1.475493\n",
      "(Epoch 3 / 20) train acc: 0.543000; val_acc: 0.525000\n",
      "(Iteration 301 / 1960) loss: 1.343082\n",
      "(Epoch 4 / 20) train acc: 0.573000; val_acc: 0.534000\n",
      "(Iteration 401 / 1960) loss: 1.324632\n"
     ]
    }
   ],
   "source": [
    "# ================================================================ #\n",
    "# YOUR CODE HERE:\n",
    "#   Implement a FC-net that achieves at least 55% validation accuracy\n",
    "#   on CIFAR-10.\n",
    "# ================================================================ #\n",
    "\n",
    "layer_dims = [400, 400, 400]\n",
    "\n",
    "solvers = {}\n",
    "model = FullyConnectedNet(layer_dims, weight_scale=5e-2, dropout=0.8,\n",
    "                          use_batchnorm=True)\n",
    "\n",
    "solver = Solver(model, data,\n",
    "                num_epochs=20, batch_size=500,\n",
    "                update_rule='adam',\n",
    "                optim_config = {\n",
    "                  'learning_rate': 1e-3,\n",
    "                },\n",
    "                lr_decay=0.95,\n",
    "                verbose=True, print_every=100)\n",
    "solver.train()\n",
    "\n",
    "# ================================================================ #\n",
    "# END YOUR CODE HERE\n",
    "# ================================================================ #\n"
   ]
  },
  {
   "cell_type": "code",
   "execution_count": null,
   "metadata": {},
   "outputs": [],
   "source": []
  }
 ],
 "metadata": {
  "kernelspec": {
   "display_name": "Python 3 (ipykernel)",
   "language": "python",
   "name": "python3"
  },
  "language_info": {
   "codemirror_mode": {
    "name": "ipython",
    "version": 3
   },
   "file_extension": ".py",
   "mimetype": "text/x-python",
   "name": "python",
   "nbconvert_exporter": "python",
   "pygments_lexer": "ipython3",
   "version": "3.10.12"
  }
 },
 "nbformat": 4,
 "nbformat_minor": 4
}
